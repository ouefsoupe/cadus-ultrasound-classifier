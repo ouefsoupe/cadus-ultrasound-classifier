{
 "cells": [
  {
   "cell_type": "code",
   "execution_count": 1,
   "id": "c5d1baaa-881e-4dd0-8747-4caafbe16df3",
   "metadata": {},
   "outputs": [],
   "source": [
    "from tensorflow import keras\n",
    "import cv2\n",
    "from tensorflow.keras.preprocessing.image import load_img ,img_to_array\n",
    "import matplotlib.pyplot as plt\n",
    "from tensorflow.keras.models import Sequential \n",
    "from tensorflow.keras.layers import Conv2D\n",
    "from tensorflow.keras.layers import MaxPooling2D,AveragePooling2D,BatchNormalization\n",
    "from tensorflow.keras.layers import Dense,Activation\n",
    "from tensorflow.keras.layers import Flatten,Dropout,SpatialDropout2D\n",
    "from tensorflow.keras.optimizers import SGD\n",
    "from tensorflow.keras.optimizers import Adam\n",
    "import os\n",
    "import numpy as np\n",
    "import pandas as pd"
   ]
  },
  {
   "cell_type": "code",
   "execution_count": 2,
   "id": "dc47676f-5e98-4798-a6f5-97a266c66ce6",
   "metadata": {},
   "outputs": [],
   "source": [
    "from tensorflow import keras\n",
    "import matplotlib.pyplot as plt\n",
    "import tensorflow as tf\n",
    "\n",
    "def resnet(img_size=224, n_classes=3, train_base=False, lr=1e-4):\n",
    "    inputs = keras.Input(shape=(img_size, img_size, 3))\n",
    "\n",
    "    # ResNet50 backbone with Imagenet weights, no top\n",
    "    x = tf.keras.applications.resnet.preprocess_input(inputs)\n",
    "    base = tf.keras.applications.ResNet50(\n",
    "        include_top=False,\n",
    "        weights=\"imagenet\",\n",
    "        input_tensor=x\n",
    "    )\n",
    "    base.trainable = train_base  # freeze by default\n",
    "\n",
    "    x = keras.layers.GlobalAveragePooling2D()(base.output)\n",
    "    x = keras.layers.Dropout(0.3)(x)\n",
    "    outputs = keras.layers.Dense(n_classes, activation=\"softmax\")(x)\n",
    "\n",
    "    model = keras.Model(inputs, outputs)\n",
    "    model.compile(\n",
    "        optimizer=keras.optimizers.Adam(lr),\n",
    "        loss=\"categorical_crossentropy\",\n",
    "        metrics=[\"accuracy\"],\n",
    "    )\n",
    "    return model\n",
    "\n",
    "\n",
    "# for dispaly\n",
    "def plot_val_accuracy(*histories, labels=None, title=\"Validation Accuracy over Epochs\"):\n",
    "    if not histories:\n",
    "        raise ValueError(\"Pass at least one Keras History object, e.g., `plot_val_accuracy(history)`\")\n",
    "\n",
    "    # default labels\n",
    "    if labels is None:\n",
    "        labels = [f\"Phase {i+1}\" for i in range(len(histories))]\n",
    "\n",
    "    plt.figure(figsize=(8,5))\n",
    "    epoch_start = 1\n",
    "    for i, h in enumerate(histories):\n",
    "        # handle both 'val_accuracy' and legacy 'val_acc' keys\n",
    "        va = h.history.get(\"val_accuracy\", h.history.get(\"val_acc\", None))\n",
    "        if va is None:\n",
    "            raise KeyError(\"History object has no 'val_accuracy' (or 'val_acc'). \"\n",
    "                           \"Make sure you compiled the model with metrics=['accuracy'].\")\n",
    "\n",
    "        epochs = list(range(epoch_start, epoch_start + len(va)))\n",
    "        plt.plot(epochs, va, label=labels[i])\n",
    "        epoch_start += len(va)\n",
    "\n",
    "    plt.title(title)\n",
    "    plt.xlabel(\"Epoch\")\n",
    "    plt.ylabel(\"Validation Accuracy\")\n",
    "    plt.grid(True)\n",
    "    plt.legend()\n",
    "    plt.show()\n",
    "\n"
   ]
  },
  {
   "cell_type": "code",
   "execution_count": 3,
   "id": "a40e2d30-47f0-41c4-af88-1617ae95bdda",
   "metadata": {},
   "outputs": [
    {
     "name": "stdout",
     "output_type": "stream",
     "text": [
      "Found 800 files belonging to 3 classes.\n",
      "Using 640 files for training.\n",
      "Found 800 files belonging to 3 classes.\n",
      "Using 160 files for validation.\n"
     ]
    },
    {
     "data": {
      "text/plain": [
       "['benign', 'malignant', 'normal']"
      ]
     },
     "execution_count": 3,
     "metadata": {},
     "output_type": "execute_result"
    }
   ],
   "source": [
    "from pathlib import Path\n",
    "import tensorflow as tf\n",
    "\n",
    "data_dir = Path.cwd() / \"us_b\"\n",
    "img_size = (224, 224)\n",
    "img_shape = (img_size, img_size, 3)\n",
    "batch_size = 32\n",
    "seed = 1337\n",
    "\n",
    "train_ds = tf.keras.utils.image_dataset_from_directory(\n",
    "    data_dir,\n",
    "    labels=\"inferred\",\n",
    "    label_mode=\"categorical\",\n",
    "    validation_split=0.2,\n",
    "    subset=\"training\",\n",
    "    seed=seed,\n",
    "    image_size=img_size,\n",
    "    batch_size=batch_size,\n",
    ")\n",
    "\n",
    "val_ds = tf.keras.utils.image_dataset_from_directory(\n",
    "    data_dir,\n",
    "    labels=\"inferred\",\n",
    "    label_mode=\"categorical\",\n",
    "    validation_split=0.2,\n",
    "    subset=\"validation\",\n",
    "    seed=seed,\n",
    "    image_size=img_size,\n",
    "    batch_size=batch_size,\n",
    ")\n",
    "\n",
    "class_names = train_ds.class_names\n",
    "class_names"
   ]
  },
  {
   "cell_type": "code",
   "execution_count": 4,
   "id": "c79fb339-8f20-42a5-99d8-d1dbbe459dc8",
   "metadata": {},
   "outputs": [
    {
     "name": "stdout",
     "output_type": "stream",
     "text": [
      "Directories: [PosixPath('/Users/graysonrichard/Desktop/cs_2025/ultrasound/us_b/malignant'), PosixPath('/Users/graysonrichard/Desktop/cs_2025/ultrasound/us_b/benign'), PosixPath('/Users/graysonrichard/Desktop/cs_2025/ultrasound/us_b/normal')]\n",
      "Number of files: 210\n"
     ]
    },
    {
     "data": {
      "text/html": [
       "<div>\n",
       "<style scoped>\n",
       "    .dataframe tbody tr th:only-of-type {\n",
       "        vertical-align: middle;\n",
       "    }\n",
       "\n",
       "    .dataframe tbody tr th {\n",
       "        vertical-align: top;\n",
       "    }\n",
       "\n",
       "    .dataframe thead th {\n",
       "        text-align: right;\n",
       "    }\n",
       "</style>\n",
       "<table border=\"1\" class=\"dataframe\">\n",
       "  <thead>\n",
       "    <tr style=\"text-align: right;\">\n",
       "      <th></th>\n",
       "      <th>filename</th>\n",
       "    </tr>\n",
       "  </thead>\n",
       "  <tbody>\n",
       "    <tr>\n",
       "      <th>0</th>\n",
       "      <td>malat206p</td>\n",
       "    </tr>\n",
       "    <tr>\n",
       "      <th>1</th>\n",
       "      <td>malat178p</td>\n",
       "    </tr>\n",
       "    <tr>\n",
       "      <th>2</th>\n",
       "      <td>malat197p</td>\n",
       "    </tr>\n",
       "    <tr>\n",
       "      <th>3</th>\n",
       "      <td>malat51p</td>\n",
       "    </tr>\n",
       "    <tr>\n",
       "      <th>4</th>\n",
       "      <td>malat47p</td>\n",
       "    </tr>\n",
       "  </tbody>\n",
       "</table>\n",
       "</div>"
      ],
      "text/plain": [
       "    filename\n",
       "0  malat206p\n",
       "1  malat178p\n",
       "2  malat197p\n",
       "3   malat51p\n",
       "4   malat47p"
      ]
     },
     "execution_count": 4,
     "metadata": {},
     "output_type": "execute_result"
    }
   ],
   "source": [
    "from pathlib import Path\n",
    "import pandas as pd\n",
    "import re\n",
    "\n",
    "base_path = Path.cwd() / \"us_b\"\n",
    "\n",
    "# list subdirectories (classes)\n",
    "dir_list = [p for p in base_path.iterdir() if p.is_dir()]\n",
    "print(\"Directories:\", dir_list)\n",
    "\n",
    "#  build dataframe\n",
    "files = [f for f in dir_list[0].iterdir() if f.is_file()]  # e.g., benign\n",
    "df = pd.DataFrame([f.name for f in files], columns=[\"filename\"])\n",
    "\n",
    "# clean function\n",
    "def clean(name):\n",
    "    name = re.sub(r'[benign ().]', '', str(name))\n",
    "    return name\n",
    "\n",
    "df[\"filename\"] = df[\"filename\"].apply(clean)\n",
    "df = df[~df[\"filename\"].str.contains(\"mask\", regex=False)]\n",
    "df_list = sorted(df[\"filename\"].tolist())\n",
    "\n",
    "print(\"Number of files:\", len(df_list))\n",
    "df.head()\n"
   ]
  },
  {
   "cell_type": "code",
   "execution_count": 5,
   "id": "63257102-b1a7-4841-b5eb-eb824359e134",
   "metadata": {},
   "outputs": [
    {
     "name": "stdout",
     "output_type": "stream",
     "text": [
      "Loaded: (798, 128, 128, 3) (798,) range: 0.0 255.0\n"
     ]
    },
    {
     "name": "stderr",
     "output_type": "stream",
     "text": [
      "WARNING:absl:At this time, the v2.11+ optimizer `tf.keras.optimizers.Adam` runs slowly on M1/M2 Macs, please use the legacy Keras optimizer instead, located at `tf.keras.optimizers.legacy.Adam`.\n",
      "WARNING:absl:There is a known slowdown when using v2.11+ Keras optimizers on M1/M2 Macs. Falling back to the legacy Keras optimizer, i.e., `tf.keras.optimizers.legacy.Adam`.\n"
     ]
    },
    {
     "name": "stdout",
     "output_type": "stream",
     "text": [
      "Epoch 1/12\n"
     ]
    },
    {
     "name": "stderr",
     "output_type": "stream",
     "text": [
      "2025-10-21 22:42:23.640374: W tensorflow/tsl/platform/profile_utils/cpu_utils.cc:128] Failed to get CPU frequency: 0 Hz\n"
     ]
    },
    {
     "name": "stdout",
     "output_type": "stream",
     "text": [
      "20/20 [==============================] - 6s 203ms/step - loss: 1.4649 - accuracy: 0.4389 - val_loss: 1.2016 - val_accuracy: 0.4750\n",
      "Epoch 2/12\n",
      "20/20 [==============================] - 3s 141ms/step - loss: 1.2581 - accuracy: 0.5219 - val_loss: 1.1289 - val_accuracy: 0.5312\n",
      "Epoch 3/12\n",
      "20/20 [==============================] - 3s 138ms/step - loss: 1.1649 - accuracy: 0.5455 - val_loss: 1.0318 - val_accuracy: 0.5437\n",
      "Epoch 4/12\n",
      "20/20 [==============================] - 3s 136ms/step - loss: 1.0255 - accuracy: 0.5878 - val_loss: 0.9664 - val_accuracy: 0.5688\n",
      "Epoch 5/12\n",
      "20/20 [==============================] - 3s 137ms/step - loss: 0.9964 - accuracy: 0.6113 - val_loss: 0.9150 - val_accuracy: 0.5813\n",
      "Epoch 6/12\n",
      "20/20 [==============================] - 3s 133ms/step - loss: 0.9957 - accuracy: 0.6066 - val_loss: 0.8683 - val_accuracy: 0.5938\n",
      "Epoch 7/12\n",
      "20/20 [==============================] - 3s 138ms/step - loss: 0.9526 - accuracy: 0.6238 - val_loss: 0.8249 - val_accuracy: 0.6187\n",
      "Epoch 8/12\n",
      "20/20 [==============================] - 3s 135ms/step - loss: 0.8634 - accuracy: 0.6724 - val_loss: 0.7974 - val_accuracy: 0.6375\n",
      "Epoch 9/12\n",
      "20/20 [==============================] - 3s 136ms/step - loss: 0.8638 - accuracy: 0.6677 - val_loss: 0.7691 - val_accuracy: 0.6687\n",
      "Epoch 10/12\n",
      "20/20 [==============================] - 3s 132ms/step - loss: 0.7887 - accuracy: 0.6975 - val_loss: 0.7484 - val_accuracy: 0.6750\n",
      "Epoch 11/12\n",
      "20/20 [==============================] - 3s 138ms/step - loss: 0.8018 - accuracy: 0.6881 - val_loss: 0.7260 - val_accuracy: 0.6875\n",
      "Epoch 12/12\n",
      "20/20 [==============================] - 3s 139ms/step - loss: 0.7576 - accuracy: 0.6991 - val_loss: 0.7055 - val_accuracy: 0.7125\n"
     ]
    },
    {
     "name": "stderr",
     "output_type": "stream",
     "text": [
      "WARNING:absl:At this time, the v2.11+ optimizer `tf.keras.optimizers.Adam` runs slowly on M1/M2 Macs, please use the legacy Keras optimizer instead, located at `tf.keras.optimizers.legacy.Adam`.\n",
      "WARNING:absl:There is a known slowdown when using v2.11+ Keras optimizers on M1/M2 Macs. Falling back to the legacy Keras optimizer, i.e., `tf.keras.optimizers.legacy.Adam`.\n"
     ]
    },
    {
     "name": "stdout",
     "output_type": "stream",
     "text": [
      "Epoch 1/6\n",
      "20/20 [==============================] - 9s 321ms/step - loss: 0.8599 - accuracy: 0.6191 - val_loss: 0.6766 - val_accuracy: 0.7250\n",
      "Epoch 2/6\n",
      "20/20 [==============================] - 5s 227ms/step - loss: 0.5693 - accuracy: 0.7649 - val_loss: 0.6362 - val_accuracy: 0.7500\n",
      "Epoch 3/6\n",
      "20/20 [==============================] - 4s 193ms/step - loss: 0.4165 - accuracy: 0.8464 - val_loss: 0.5978 - val_accuracy: 0.7750\n",
      "Epoch 4/6\n",
      "20/20 [==============================] - 5s 245ms/step - loss: 0.3429 - accuracy: 0.8840 - val_loss: 0.5673 - val_accuracy: 0.7937\n",
      "Epoch 5/6\n",
      "20/20 [==============================] - 4s 198ms/step - loss: 0.2454 - accuracy: 0.9389 - val_loss: 0.5445 - val_accuracy: 0.7937\n",
      "Epoch 6/6\n",
      "20/20 [==============================] - 4s 194ms/step - loss: 0.2342 - accuracy: 0.9436 - val_loss: 0.5233 - val_accuracy: 0.7875\n"
     ]
    },
    {
     "data": {
      "image/png": "[encoded data removed]",
      "text/plain": [
       "<Figure size 800x500 with 1 Axes>"
      ]
     },
     "metadata": {},
     "output_type": "display_data"
    }
   ],
   "source": [
    "from pathlib import Path\n",
    "import cv2, numpy as np\n",
    "from sklearn.model_selection import train_test_split\n",
    "from sklearn.preprocessing import LabelEncoder\n",
    "import tensorflow as tf\n",
    "\n",
    "# 1) Load images from local folder\n",
    "img_size = 128\n",
    "base = Path.cwd() / \"us_b\"     # has benign/ malignant/ normal subfolders\n",
    "classes = [\"benign\", \"malignant\", \"normal\"]\n",
    "\n",
    "X, y = [], []\n",
    "for cls in classes:\n",
    "    for p in sorted((base/cls).iterdir()):\n",
    "        if not p.is_file(): \n",
    "            continue\n",
    "        if p.name.endswith(\"_mask.png\"):\n",
    "            continue\n",
    "        if p.suffix.lower() not in (\".png\",\".jpg\",\".jpeg\",\".bmp\",\".tif\",\".tiff\"):\n",
    "            continue\n",
    "        im = cv2.imread(str(p))                      # BGR\n",
    "        if im is None:\n",
    "            continue\n",
    "        im = cv2.cvtColor(im, cv2.COLOR_BGR2RGB)     # RGB\n",
    "        im = cv2.resize(im, (img_size, img_size))\n",
    "        X.append(im)\n",
    "        y.append(cls)\n",
    "\n",
    "X = np.asarray(X, dtype=np.float32)                 # shape (N,128,128,3), values 0..255\n",
    "y = np.asarray(y)\n",
    "print(\"Loaded:\", X.shape, y.shape, \"range:\", X.min(), X.max())  # should NOT be all zeros\n",
    "\n",
    "# 2) Labels -> ints -> one-hot (for categorical_crossentropy)\n",
    "le = LabelEncoder()\n",
    "y_int = le.fit_transform(y)                         # shape (N,)\n",
    "n_classes = len(le.classes_)\n",
    "y_oh = tf.keras.utils.to_categorical(y_int, n_classes).astype(\"float32\")\n",
    "CLASS_NAMES = le.classes_.tolist()\n",
    "\n",
    "# 3) Split (stratify on ints)\n",
    "X_train, X_test, y_train, y_test, ytr_int, yte_int = train_test_split(\n",
    "    X, y_oh, y_int, test_size=0.2, random_state=42, stratify=y_int\n",
    ")\n",
    "\n",
    "# 4) Build + train the model (resnet() should include preprocess_input inside)\n",
    "model = resnet(img_size=img_size, n_classes=n_classes)\n",
    "history = model.fit(\n",
    "    X_train, y_train,\n",
    "    validation_data=(X_test, y_test),\n",
    "    epochs=12, batch_size=32, verbose=1\n",
    ")\n",
    "\n",
    "# Fine-tune a few top layers at low LR if needed:\n",
    "for layer in model.layers[-50:]:\n",
    "    layer.trainable = True\n",
    "model.compile(optimizer=tf.keras.optimizers.Adam(1e-5),\n",
    "              loss=\"categorical_crossentropy\", metrics=[\"accuracy\"])\n",
    "history_ft = model.fit(X_train, y_train, validation_data=(X_test, y_test), epochs=6, batch_size=32)\n",
    "\n",
    "plot_val_accuracy(history, history_ft, labels=[\"Initial Training\", \"Fine-tuning\"])\n",
    "\n",
    "\n"
   ]
  }
 ],
 "metadata": {
  "kernelspec": {
   "display_name": "Python 3 (ipykernel)",
   "language": "python",
   "name": "python3"
  },
  "language_info": {
   "codemirror_mode": {
    "name": "ipython",
    "version": 3
   },
   "file_extension": ".py",
   "mimetype": "text/x-python",
   "name": "python",
   "nbconvert_exporter": "python",
   "pygments_lexer": "ipython3",
   "version": "3.10.7"
  }
 },
 "nbformat": 4,
 "nbformat_minor": 5
}
