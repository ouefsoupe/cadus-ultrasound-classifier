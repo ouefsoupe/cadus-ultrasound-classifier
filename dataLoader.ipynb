{
 "cells": [
  {
   "cell_type": "code",
   "execution_count": 20,
   "id": "fdceab81-d64c-4af6-ad2e-5664a3749c8d",
   "metadata": {},
   "outputs": [
    {
     "name": "stdout",
     "output_type": "stream",
     "text": [
      "Warning: Looks like you're using an outdated `kagglehub` version (installed: 0.3.11), please consider upgrading to the latest version (0.3.13).\n",
      "Path to dataset files: /Users/graysonrichard/.cache/kagglehub/datasets/aryashah2k/breast-ultrasound-images-dataset/versions/1\n"
     ]
    }
   ],
   "source": [
    "import kagglehub\n",
    "\n",
    "# Download latest version\n",
    "path = kagglehub.dataset_download(\"aryashah2k/breast-ultrasound-images-dataset\")\n",
    "\n",
    "print(\"Path to dataset files:\", path)"
   ]
  },
  {
   "cell_type": "code",
   "execution_count": 22,
   "id": "578f2e12-3baa-4b18-b9b1-cae39555272c",
   "metadata": {},
   "outputs": [
    {
     "name": "stdout",
     "output_type": "stream",
     "text": [
      "moved images: 798\n",
      "/Users/graysonrichard/Desktop/cs_2025/ultrasound/us_b/malignant -> 211\n",
      "/Users/graysonrichard/Desktop/cs_2025/ultrasound/us_b/benign -> 454\n",
      "/Users/graysonrichard/Desktop/cs_2025/ultrasound/us_b/normal -> 133\n"
     ]
    }
   ],
   "source": [
    "from pathlib import Path\n",
    "import shutil\n",
    "\n",
    "root = Path.home()/\".cache/kagglehub/datasets/aryashah2k/breast-ultrasound-images-dataset/versions/1\"/\"Dataset_BUSI_with_GT\"\n",
    "target = Path.cwd()/ \"us_b\"\n",
    "\n",
    "# make class dirs\n",
    "for cls in [\"benign\",\"malignant\",\"normal\"]:\n",
    "    (target/cls).mkdir(parents=True, exist_ok=True)\n",
    "\n",
    "moved = 0\n",
    "for cls in [\"benign\",\"malignant\",\"normal\"]:\n",
    "    for f in (root/cls).glob(\"**/*\"):\n",
    "        if f.suffix.lower() in {\".png\",\".jpg\",\".jpeg\",\".bmp\",\".tif\",\".tiff\"} and not f.name.endswith(\"_mask.png\"):\n",
    "            shutil.copy2(f, target/cls/f.name)\n",
    "            moved += 1\n",
    "\n",
    "print(\"moved images:\", moved)\n",
    "for p in target.iterdir():\n",
    "    print(p, \"->\", sum(1 for _ in p.glob(\"*\")))\n"
   ]
  },
  {
   "cell_type": "code",
   "execution_count": null,
   "id": "625f68bc-6ab7-4319-8af8-0566d6fb36d2",
   "metadata": {},
   "outputs": [],
   "source": []
  }
 ],
 "metadata": {
  "kernelspec": {
   "display_name": "Python 3 (ipykernel)",
   "language": "python",
   "name": "python3"
  },
  "language_info": {
   "codemirror_mode": {
    "name": "ipython",
    "version": 3
   },
   "file_extension": ".py",
   "mimetype": "text/x-python",
   "name": "python",
   "nbconvert_exporter": "python",
   "pygments_lexer": "ipython3",
   "version": "3.10.7"
  }
 },
 "nbformat": 4,
 "nbformat_minor": 5
}
